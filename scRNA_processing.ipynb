{
 "cells": [
  {
   "cell_type": "code",
   "execution_count": null,
   "id": "840ae93d",
   "metadata": {
    "scrolled": true
   },
   "outputs": [],
   "source": [
    "import numpy as np\n",
    "import pandas as pd\n",
    "import scanpy as sc\n",
    "import scrublet as  scr\n",
    "import anndata\n",
    "import scanpy.external as sce\n",
    "from matplotlib import pyplot as plt\n",
    "%matplotlib inline\n",
    "\n",
    "sc.settings.verbosity = 3             # verbosity: errors (0), warnings (1), info (2), hints (3)\n",
    "sc.logging.print_header()\n",
    "sc.settings.set_figure_params(dpi=300, facecolor='white')"
   ]
  },
  {
   "cell_type": "code",
   "execution_count": null,
   "id": "6f53076e",
   "metadata": {
    "scrolled": true
   },
   "outputs": [],
   "source": [
    "#loading matrix from SoupX\n",
    "COPD_dict = {}\n",
    "data_dir = \"/datg/mazhuo/data/COPD/Matrix_after_SoupX/ourdata/\"\n",
    "for sample in [\"COPD2\",\"COPD3\",\"COPD4\",\"COPD5\",\"COPD7\",\"COPD8\",\"COPD9\",\"COPD10\",\"COPD11\",\"COPD12\",\"COPD15\",\"COPD16\",\n",
    "               \"COPD21\",\"COPD23\",\"COPD26\",\"COPD27\",\"COPD28\",\"COPD29\",\"COPD30\",\"COPD31\",\"COPD32\",\"COPD38\",\"COPD39\",\n",
    "               \"COPD40\",\"COPD41\",\"COPD45\",\"COPD46\",\"COPD50\",\"COPD52\",\"COPD53\",\"COPD54\",\"COPD56\",\"COPD57\",\"COPD58\",\n",
    "               \"COPD64\",\"COPD71\",\"COPD72\",\"COPD73\",\"COPD77\",\"COPD78\",\"COPD79\",\"COPD81\",\"COPD82\",\"COPD83\",\n",
    "               \"COPD87\",\"COPD88\",\"COPD90\",\"COPD91\",\"COPD92\",\"COPD93\",\"COPD94\",\"COPD95\",\"COPD97\",\"COPD99\",\n",
    "               \"COPD101\",\"COPD102\",\"COPD103\",\"COPD104\",\"COPD107\",\"COPD128\",\n",
    "               \"HC2\",\"HC3\",\"HC5\",\"HC6\",\"HC10\",\"HC24\",\"HC26\",\"HC27\",\"HC29\",\"HC30\",\"HC31\",\"HC32\",\"HC36\",\"HC38\",\"HC40\",\"HC46\",\"HC47\",\"HC49\",\"HC50\",\n",
    "               \"HS1\",\"HS2\",\"HS6\",\"HS7\",\"HS14\",\"HS21\",\"HS22\",\"HS24\",\"HS25\",\"HS26\",\"HS27\",\"HS28\",\"HS29\",\"HS30\",\"HS31\",\"HS32\",\"HS34\",\"HS35\",\n",
    "               \"HS41\",\"HS43\",\"HS44\",\"HS46\"]:\n",
    "    data = sc.read_10x_mtx(data_dir + sample + \"/\",var_names='gene_symbols',cache = True)\n",
    "    data.obs_names = [cell + \"_\" + sample for cell in data.obs_names]\n",
    "    data.obs[\"sample\"] = sample\n",
    "    data.var['mt'] = data.var_names.str.startswith(\"MT-\")\n",
    "    data.var['hb'] = data.var_names.str.contains(\"^HB[^(P)]\")\n",
    "    data.var['ribo'] = data.var_names.str.startswith((\"RPS\",\"RPL\"))\n",
    "    sc.pp.calculate_qc_metrics(data, qc_vars=[\"mt\",\"hb\",\"ribo\"], percent_top=None, log1p=False, inplace=True)\n",
    "    data = data[data.obs.n_genes_by_counts < 8000, :]\n",
    "    data = data[data.obs.n_genes_by_counts > 500, :]\n",
    "    data = data[data.obs.total_counts < 50000, :]\n",
    "    data = data[data.obs.total_counts > 1000, :]\n",
    "    data = data[data.obs.pct_counts_mt < 15, :]\n",
    "    data = data[data.obs.pct_counts_hb < 5, :]\n",
    "    COPD_dict[sample] = data "
   ]
  },
  {
   "cell_type": "code",
   "execution_count": null,
   "id": "8e35f012",
   "metadata": {},
   "outputs": [],
   "source": [
    "#merge samples\n",
    "COPD = anndata.concat(COPD_dict)\n",
    "COPD.write(\"processed_data_py/COPD_counts.h5ad\")"
   ]
  },
  {
   "cell_type": "code",
   "execution_count": null,
   "id": "367bbe4e",
   "metadata": {},
   "outputs": [],
   "source": [
    "#normalization\n",
    "sc.pp.normalize_total(COPD, target_sum=1e4)\n",
    "sc.pp.log1p(COPD)\n",
    "#Find variable genes\n",
    "sc.pp.highly_variable_genes(COPD, n_top_genes=2000, flavor = \"seurat\", batch_key=\"sample\")\n",
    "COPD.raw = COPD\n",
    "COPD = COPD[:, COPD.var.highly_variable]\n",
    "sc.pp.regress_out(COPD, ['total_counts','pct_counts_mt'])\n",
    "sc.pp.scale(COPD)"
   ]
  },
  {
   "cell_type": "code",
   "execution_count": null,
   "id": "a87ba692",
   "metadata": {},
   "outputs": [],
   "source": [
    "#PCA\n",
    "sc.tl.pca(COPD, n_comps = 60)"
   ]
  },
  {
   "cell_type": "code",
   "execution_count": null,
   "id": "0f2ab1a3",
   "metadata": {
    "scrolled": true
   },
   "outputs": [],
   "source": [
    "#batch correction\n",
    "sc.external.pp.bbknn(COPD, batch_key = \"sample\")\n",
    "sc.tl.umap(COPD)"
   ]
  },
  {
   "cell_type": "code",
   "execution_count": null,
   "id": "e7dd9ae4",
   "metadata": {
    "scrolled": true
   },
   "outputs": [],
   "source": [
    "#clustering\n",
    "sc.pp.neighbors(COPD, n_neighbors=30, n_pcs=60)\n",
    "sc.tl.leiden(COPD,resolution = 0.2)"
   ]
  },
  {
   "cell_type": "code",
   "execution_count": null,
   "id": "27adac8e-f964-4ff5-82c0-6e8ab51a79b9",
   "metadata": {
    "scrolled": true
   },
   "outputs": [],
   "source": [
    "sc.pl.umap(COPD, color=[\"leiden\"],size=1, legend_loc='on data')"
   ]
  },
  {
   "cell_type": "code",
   "execution_count": null,
   "id": "49c34aec",
   "metadata": {
    "scrolled": true
   },
   "outputs": [],
   "source": [
    "sc.pl.dotplot(COPD,{\"Epithelial\":[\"EPCAM\",\"AGER\",\"SFTPC\",\"TP63\",\"SCGB3A2\",\"SCGB1A1\",\"FOXJ1\",\"MUC5B\",\"CHGA\",],\n",
    "                        \"Mesenchymal\":[\"COL1A1\",\"PDGFRA\",\"SERPINF1\",\"GPC3\",\"WIF1\",\"ACTA2\",\"CTHRC1\",\"COL11A1\",\"LAMC3\",\"PDGFRB\",\"MYH11\",\"UPK3B\"],\n",
    "                        \"Endothleial\":[\"PECAM1\",\"CDH5\",\"LYVE1\",\"CA4\",\"FCN3\",\"EDNRB\",\"IGFBP3\",\"CPE\",\"COL15A1\"],\n",
    "                        \"Myeloid\":[\"PTPRC\",\"ITGAM\",\"CST3\",\"LYZ\",\"CLEC9A\",\"CLEC10A\",\"SCT\",\"LAD1\",\n",
    "                                  \"FCN1\",\"VCAN\",\"MTSS1\",\"TREM2\",\"CD68\",\"FABP4\",\"F13A1\",\"MS4A2\",\"FCGR3B\"],\n",
    "                        \"Lymphoid\":[\"PTPRC\",\"MS4A1\",\"TNFRSF17\",\"CD3G\",\"CD4\",\"CD8A\",\"CTLA4\",\"NKG7\",\"MCTP2\"]}, \n",
    "                  groupby=\"leiden\",dendrogram=False,standard_scale=\"var\",cmap='Spectral_r')"
   ]
  },
  {
   "cell_type": "code",
   "execution_count": null,
   "id": "03e16c3d-807f-4a32-abce-328c56dffcfe",
   "metadata": {
    "scrolled": true
   },
   "outputs": [],
   "source": [
    "metadata = pd.read_csv('tables/meta101.csv', index_col=0)"
   ]
  },
  {
   "cell_type": "code",
   "execution_count": null,
   "id": "bc484bd4-7483-4662-8bf0-fdfbe6212d0d",
   "metadata": {},
   "outputs": [],
   "source": [
    "COPD.obs[\"barcode\"] = COPD.obs.index\n",
    "COPD.obs['UMAP1'] = COPD.obsm['X_umap'][:, 0]\n",
    "COPD.obs['UMAP2'] = COPD.obsm['X_umap'][:, 1]\n",
    "COPD.obs = COPD.obs.merge(metadata, left_on='sample', right_on='sample', how=\"left\")\n",
    "COPD.obs.index = COPD.obs[\"barcode\"]"
   ]
  },
  {
   "cell_type": "code",
   "execution_count": null,
   "id": "b670621e",
   "metadata": {},
   "outputs": [],
   "source": [
    "#first annotation\n",
    "COPD.obs[\"cellclass\"] = \"\"\n",
    "COPD.obs.loc[COPD.obs[\"leiden\"].isin([\"0\",\"6\",\"7\",\"8\"]),\"cellclass\"] = \"Epithelial\"\n",
    "COPD.obs.loc[COPD.obs[\"leiden\"].isin([\"5\",\"9\",\"13\"]),\"cellclass\"] = \"Mesenchymal\"\n",
    "COPD.obs.loc[COPD.obs[\"leiden\"].isin([\"18\"]),\"cellclass\"] = \"Mesothelial\"\n",
    "COPD.obs.loc[COPD.obs[\"leiden\"].isin([\"3\",\"11\",\"15\"]),\"cellclass\"] = \"Endothelial\"\n",
    "COPD.obs.loc[COPD.obs[\"leiden\"].isin([\"4\",\"10\",\"12\",\"14\",\"19\"]),\"cellclass\"] = \"Myeloid\"\n",
    "COPD.obs.loc[COPD.obs[\"leiden\"].isin([\"1\",\"2\",\"16\",\"17\",\"20\"]),\"cellclass\"] = \"Lymphoid\""
   ]
  },
  {
   "cell_type": "code",
   "execution_count": null,
   "id": "66dd37e5-78fa-427f-96d9-733af799fc36",
   "metadata": {},
   "outputs": [],
   "source": [
    "sc.pl.umap(COPD, color=[\"cellclass\"],size=1, legend_loc='on data')"
   ]
  },
  {
   "cell_type": "code",
   "execution_count": null,
   "id": "9ac4e44d-3e49-4618-806c-03ac6f28672e",
   "metadata": {},
   "outputs": [],
   "source": [
    "COPD = COPD.raw.to_adata()"
   ]
  },
  {
   "cell_type": "code",
   "execution_count": null,
   "id": "805c1f83-d8b1-4fd6-af16-1174a4cb5816",
   "metadata": {},
   "outputs": [],
   "source": [
    "meso = COPD[COPD.obs[\"cellclass\"] == \"Mesothelial\"].copy()\n",
    "meso.obs[\"celltype\"] = meso.obs[\"cellclass\"]\n",
    "meso_meta = meso.obs[[\"celltype\"]]"
   ]
  },
  {
   "cell_type": "code",
   "execution_count": null,
   "id": "541f62f9-a037-4ba1-8036-c0aa802774e8",
   "metadata": {},
   "outputs": [],
   "source": [
    "#Add second anntation from each cell class\n",
    "epi_meta = pd.read_csv('tables/epi_meta.csv', index_col = \"barcode\")\n",
    "mes_meta = pd.read_csv('tables/mes_meta.csv', index_col = \"barcode\")\n",
    "endo_meta = pd.read_csv('tables/endo_meta.csv', index_col = \"barcode\")\n",
    "mye_meta = pd.read_csv('tables/mye_meta.csv', index_col = \"barcode\")\n",
    "lym_meta = pd.read_csv('tables/lym_meta.csv', index_col = \"barcode\")\n",
    "cellmeta = pd.concat([epi_meta, mes_meta, endo_meta, mye_meta, lym_meta,meso_meta], axis=0)\n",
    "COPD.obs[\"celltype\"] = cellmeta[\"celltype\"]"
   ]
  },
  {
   "cell_type": "code",
   "execution_count": null,
   "id": "32d961d0-1279-4449-a77b-9ba92ee1ad94",
   "metadata": {},
   "outputs": [],
   "source": [
    "#Remove dou\n",
    "COPD = COPD[COPD.obs[\"celltype\"] != \"Doublets\"].copy()"
   ]
  },
  {
   "cell_type": "code",
   "execution_count": null,
   "id": "2e11097e-3f23-4ea1-ade9-15b4e6eb1614",
   "metadata": {},
   "outputs": [],
   "source": [
    "sc.pl.umap(COPD, color=[\"celltype\"],size=1, legend_loc='on data', legend_fontsize=3)"
   ]
  },
  {
   "cell_type": "code",
   "execution_count": null,
   "id": "3c1c621b-33d9-404f-a048-ffd9fffe5388",
   "metadata": {
    "scrolled": true
   },
   "outputs": [],
   "source": [
    "sc.pl.umap(COPD, color=[\"celltype\"], legend_fontsize = 8, size = 1)"
   ]
  },
  {
   "cell_type": "code",
   "execution_count": null,
   "id": "be8cb37c-a51a-4d77-9976-64996edcc9ec",
   "metadata": {},
   "outputs": [],
   "source": [
    "COPD.obs[\"celltype_num\"] = \"\"\n",
    "COPD.obs.loc[COPD.obs[\"celltype\"].isin([\"Immature AT1\"]),\"celltype_num\"] = \"1\"\n",
    "COPD.obs.loc[COPD.obs[\"celltype\"].isin([\"Mature AT1\"]),\"celltype_num\"] = \"2\"\n",
    "COPD.obs.loc[COPD.obs[\"celltype\"].isin([\"AT2\"]),\"celltype_num\"] = \"3\"\n",
    "COPD.obs.loc[COPD.obs[\"celltype\"].isin([\"TRB Secretory\"]),\"celltype_num\"] = \"4\"\n",
    "COPD.obs.loc[COPD.obs[\"celltype\"].isin([\"PreTB Secretory\"]),\"celltype_num\"] = \"5\"\n",
    "COPD.obs.loc[COPD.obs[\"celltype\"].isin([\"Basal\"]),\"celltype_num\"] = \"6\"\n",
    "COPD.obs.loc[COPD.obs[\"celltype\"].isin([\"Goblet\"]),\"celltype_num\"] = \"7\"\n",
    "COPD.obs.loc[COPD.obs[\"celltype\"].isin([\"Ciliated\"]),\"celltype_num\"] = \"8\"\n",
    "COPD.obs.loc[COPD.obs[\"celltype\"].isin([\"PNEC\"]),\"celltype_num\"] = \"9\"\n",
    "\n",
    "COPD.obs.loc[COPD.obs[\"celltype\"].isin([\"Adventitial fibroblast\"]),\"celltype_num\"] = \"10\"\n",
    "COPD.obs.loc[COPD.obs[\"celltype\"].isin([\"Alveolar fibroblast\"]),\"celltype_num\"] = \"11\"\n",
    "COPD.obs.loc[COPD.obs[\"celltype\"].isin([\"Myofibroblast\"]),\"celltype_num\"] = \"12\"\n",
    "COPD.obs.loc[COPD.obs[\"celltype\"].isin([\"Fibromyocyte\"]),\"celltype_num\"] = \"13\"\n",
    "COPD.obs.loc[COPD.obs[\"celltype\"].isin([\"Pericyte\"]),\"celltype_num\"] = \"14\"\n",
    "COPD.obs.loc[COPD.obs[\"celltype\"].isin([\"ASM\"]),\"celltype_num\"] = \"15\"\n",
    "COPD.obs.loc[COPD.obs[\"celltype\"].isin([\"VSM\"]),\"celltype_num\"] = \"16\"\n",
    "\n",
    "COPD.obs.loc[COPD.obs[\"celltype\"].isin([\"Mesothelial\"]),\"celltype_num\"] = \"17\"\n",
    "\n",
    "COPD.obs.loc[COPD.obs[\"celltype\"].isin([\"Lymphatic\"]),\"celltype_num\"] = \"18\"\n",
    "COPD.obs.loc[COPD.obs[\"celltype\"].isin([\"Aerocyte\"]),\"celltype_num\"] = \"19\"\n",
    "COPD.obs.loc[COPD.obs[\"celltype\"].isin([\"gCap\"]),\"celltype_num\"] = \"20\"\n",
    "COPD.obs.loc[COPD.obs[\"celltype\"].isin([\"Arterial\"]),\"celltype_num\"] = \"21\"\n",
    "COPD.obs.loc[COPD.obs[\"celltype\"].isin([\"Venous\"]),\"celltype_num\"] = \"22\"\n",
    "\n",
    "COPD.obs.loc[COPD.obs[\"celltype\"].isin([\"B\"]),\"celltype_num\"] = \"23\"\n",
    "COPD.obs.loc[COPD.obs[\"celltype\"].isin([\"Plasma\"]),\"celltype_num\"] = \"24\"\n",
    "COPD.obs.loc[COPD.obs[\"celltype\"].isin([\"Treg\"]),\"celltype_num\"] = \"25\"\n",
    "COPD.obs.loc[COPD.obs[\"celltype\"].isin([\"CD4+ T\"]),\"celltype_num\"] = \"26\"\n",
    "COPD.obs.loc[COPD.obs[\"celltype\"].isin([\"CD8+ T\"]),\"celltype_num\"] = \"27\"\n",
    "COPD.obs.loc[COPD.obs[\"celltype\"].isin([\"Proliferating T\"]),\"celltype_num\"] = \"28\"\n",
    "COPD.obs.loc[COPD.obs[\"celltype\"].isin([\"NKT\"]),\"celltype_num\"] = \"29\"\n",
    "COPD.obs.loc[COPD.obs[\"celltype\"].isin([\"NK\"]),\"celltype_num\"] = \"30\"\n",
    "COPD.obs.loc[COPD.obs[\"celltype\"].isin([\"ILC\"]),\"celltype_num\"] = \"31\"\n",
    "\n",
    "COPD.obs.loc[COPD.obs[\"celltype\"].isin([\"cDC1\"]),\"celltype_num\"] = \"32\"\n",
    "COPD.obs.loc[COPD.obs[\"celltype\"].isin([\"cDC2\"]),\"celltype_num\"] = \"33\"\n",
    "COPD.obs.loc[COPD.obs[\"celltype\"].isin([\"Migratory DC\"]),\"celltype_num\"] = \"34\"\n",
    "COPD.obs.loc[COPD.obs[\"celltype\"].isin([\"pDC\"]),\"celltype_num\"] = \"35\"\n",
    "COPD.obs.loc[COPD.obs[\"celltype\"].isin([\"Classical monocyte\"]),\"celltype_num\"] = \"36\"\n",
    "COPD.obs.loc[COPD.obs[\"celltype\"].isin([\"Non-classical monocyte\"]),\"celltype_num\"] = \"37\"\n",
    "COPD.obs.loc[COPD.obs[\"celltype\"].isin([\"Alveolar macrophage\"]),\"celltype_num\"] = \"38\"\n",
    "COPD.obs.loc[COPD.obs[\"celltype\"].isin([\"Monocyte-derived macrophage\"]),\"celltype_num\"] = \"39\"\n",
    "COPD.obs.loc[COPD.obs[\"celltype\"].isin([\"Interstitial macrophage\"]),\"celltype_num\"] = \"40\"\n",
    "COPD.obs.loc[COPD.obs[\"celltype\"].isin([\"Mast\"]),\"celltype_num\"] = \"41\"\n",
    "COPD.obs.loc[COPD.obs[\"celltype\"].isin([\"Neutrophil\"]),\"celltype_num\"] = \"42\""
   ]
  },
  {
   "cell_type": "code",
   "execution_count": null,
   "id": "11ceaa7a-b39e-4620-8656-6f63a523f83f",
   "metadata": {},
   "outputs": [],
   "source": [
    "COPD.obs[\"celltype\"] = COPD.obs[\"celltype\"].astype(str)\n",
    "COPD.obs[\"celltype_num\"] = COPD.obs[\"celltype_num\"].astype(str)"
   ]
  },
  {
   "cell_type": "code",
   "execution_count": null,
   "id": "efea7921-3b4c-42d8-93b3-6744b2fed34c",
   "metadata": {},
   "outputs": [],
   "source": [
    "COPD.obs[\"celltype_num_name\"] = COPD.obs[\"celltype_num\"] + \"_\" + COPD.obs[\"celltype\"]"
   ]
  },
  {
   "cell_type": "code",
   "execution_count": null,
   "id": "933fd196-c5d1-4d34-a587-8daaf8fd6ba2",
   "metadata": {},
   "outputs": [],
   "source": [
    "sc.pl.umap(COPD, color=[\"celltype_num\"], legend_loc=\"on data\",legend_fontsize = 5, size = 1,\n",
    "           palette=[\"#1f77b4\", \"#ff7f0e\", \"#2ca02c\", \"#d62728\", \"#9467bd\", \"#8c564b\", \"#e377c2\", \"#7f7f7f\", \"#bcbd22\", \"#17becf\", \n",
    "                    \"#6baed6\", \"#fd8d3c\", \"#74c476\", \"#9e9ac7\", \"#969696\", \"#5254a3\", \"#8ca252\", \"#bd9e39\", \"#ad494a\", \"#a55194\", \n",
    "                    \"#aec7e8\", \"#ffbb78\", \"#98df8a\", \"#ff9896\", \"#c5b0d5\", \"#c49c94\", \"#f786d2\", \"#c7c7c7\", \"#dbdb8d\", \"#9edae5\", \n",
    "                     \"#FF410D\", \"#6EE2FF\", \"#F7C530\", \"#95cc5e\", \"#d0dfe6\", \"#f79d1e\", \"#748aa6\", \"#cc0c00\", \"#5c88da\", \"#84bd00\",\n",
    "                     \"#ffcd00\", \"#7c878e\"],\n",
    "          save = \"COPD_newdata_celltype.pdf\")"
   ]
  },
  {
   "cell_type": "code",
   "execution_count": null,
   "id": "945d8ed1-0915-4861-a570-2217f75825a5",
   "metadata": {},
   "outputs": [],
   "source": [
    "sc.tl.rank_genes_groups(COPD, groupby=\"cellclass\", method=\"wilcoxon\")\n",
    "marker = sc.get.rank_genes_groups_df(COPD,log2fc_min=0.5, group = [\"Immature AT1\",\"Mature AT1\",\"AT1_AT2\",\"AT2b\",\"AT2s\",\"RAS\",\"Club\",\"Basal\",\"Goblet\",\"Ciliated\",\"PNEC\",\n",
    "\"Adventitial fibroblast\",\"Alveolar fibroblast\",\"CTHRC1+ fibroblast\",\"Myofibroblast\",\"Fibromyocyte\",\"Pericyte\",\"ASM\",\n",
    "\"VSM\",\"Mesothelial\",\"Lymphatic\",\"Aerocyte\",\"gCap\",\"Arterial\",\"Venous\",\"Peribronchial\",\"B\",\"Plasma\",\"Helper T\",\"Treg\",\n",
    "\"Cytotoxic T\",\"NKT\",\"NK\",\"cDC1\",\"cDC2\",\"Migratory DC\",\"pDC\",\"Classical monocyte\",\"Non-classical monocyte\",\n",
    "\"Alveolar macrophage\",\"Monocyte-derived macrophage\",\"Interstitial macrophage\",\"Mast\",\"Neutrophil\",\"ILC\"])\n",
    "marker = marker[marker.pvals_adj < 0.05]\n",
    "marker.columns = [\"group\", \"gene\", \"scores\", \"log2fc\", \"pvals\", \"pvals_adj\"]\n",
    "marker.to_csv(\"/datf/mazhuo/jupyter_notebook/COPD/tables/COPD_cellsubtype_marker.csv\")"
   ]
  },
  {
   "cell_type": "code",
   "execution_count": null,
   "id": "0ecda768-7535-4bf2-8009-cb746cc578b0",
   "metadata": {},
   "outputs": [],
   "source": [
    "COPD.obs.to_csv(\"/datf/mazhuo/jupyter_notebook/COPD/tables/COPD_meta_0808.csv\")"
   ]
  },
  {
   "cell_type": "code",
   "execution_count": null,
   "id": "24f77642-9741-47b0-aabd-afcc2db1690d",
   "metadata": {},
   "outputs": [],
   "source": [
    "COPD.write(\"processed_data_py/COPD_newdata_0808_celltype.h5ad\")"
   ]
  },
  {
   "cell_type": "code",
   "execution_count": null,
   "id": "1a9eb0dd-2ba9-46ee-bcee-697fc5d4b77d",
   "metadata": {},
   "outputs": [],
   "source": [
    "COPD.obs['cellclass'] = pd.Categorical(COPD.obs['cellclass'], categories=[\"Epithelial\",\"Mesenchymal\",\"Mesothelial\",\"Endothelial\",\n",
    "                                                                        \"Myeloid\",\"Lymphoid\"], ordered=True)"
   ]
  },
  {
   "cell_type": "code",
   "execution_count": null,
   "id": "fbbe5d1b-25c6-4031-b92d-c6000e6a1c64",
   "metadata": {},
   "outputs": [],
   "source": [
    "sc.pl.dotplot(COPD,{\"Epithelial\":[\"EPCAM\",\"CDH1\"],\"Mesenchymal\":[\"COL1A2\",\"COL3A1\",\"DCN\"],\n",
    "                    \"Mesothelial\":[\"UPK3B\",\"WT1\"],\"Endothelial\":[\"PECAM1\",\"CDH5\",\"CLDN5\"],\n",
    "                    \"Immune\":[\"PTPRC\"],\n",
    "                    \"Myeloid\":[\"ITGAM\",\"FCGR3B\"],\n",
    "                    \"Lymphoid\":[\"CD3E\",\"CD79B\",\"NKG7\"]}, \n",
    "                  groupby=\"cellclass\",dendrogram=False,standard_scale=\"var\", save = \"COPD_cellclass_marker.pdf\")"
   ]
  },
  {
   "cell_type": "code",
   "execution_count": null,
   "id": "34f9753d-a8e1-4d79-9f7e-fa2b9f7a0ce0",
   "metadata": {},
   "outputs": [],
   "source": [
    "COPD.obs['celltype'] = pd.Categorical(COPD.obs['celltype'], \n",
    "                                      categories=[\"Immature AT1\",\"Mature AT1\",\"AT2\",\"TRB Secretory\",\"PreTB Secretory\",\"Basal\",\"Goblet\",\"Ciliated\",\"PNEC\",\n",
    "\"Adventitial fibroblast\",\"Alveolar fibroblast\",\"Myofibroblast\",\"Fibromyocyte\",\"Pericyte\",\"ASM\",\n",
    "\"VSM\",\"Mesothelial\",\"Lymphatic\",\"Aerocyte\",\"gCap\",\"Arterial\",\"Venous\",\"B\",\"Plasma\",\"Treg\",\"CD4+ T\",\n",
    "\"CD8+ T\",\"Proliferating T\",\"NKT\",\"NK\",\"cDC1\",\"cDC2\",\"Migratory DC\",\"pDC\",\"Classical monocyte\",\"Non-classical monocyte\",\n",
    "\"Alveolar macrophage\",\"Monocyte-derived macrophage\",\"Interstitial macrophage\",\"Mast\",\"Neutrophil\",\"Basophil\"], ordered=True)"
   ]
  },
  {
   "cell_type": "code",
   "execution_count": null,
   "id": "01349721-e6d2-4449-8986-a1ef91f5db11",
   "metadata": {},
   "outputs": [],
   "source": [
    "sc.pl.dotplot(COPD,{\"AT1\":[\"AGER\",\"HOPX\",\"COL4A1\",\"GPC5\"], \"AT2\":[\"SFTPC\",\"LAMP3\",\"HHIP\"], \"Secretory\":[\"SCGB3A2\",\"SCGB1A1\"], \n",
    "                   \"Basal\":[\"TP63\",\"KRT5\"], \"Goblet\":[\"MUC5B\",\"BPIFB1\"],\"Ciliated\":[\"FOXJ1\",\"PIFO\"], \"PNEC\":[\"CHGA\",\"GRP\"],\n",
    "                   \"Adventitial fibroblast\": [\"SERPINF1\",\"SFRP2\",\"PI16\"], \"Alveolar fibroblast\" : [\"GPC3\",\"ITGA8\",\"SPINT2\"],\n",
    "                   \"Myofibroblast\" : [\"ASPN\",\"ITGBL1\",\"PDGFRA\"], \"Fibromyocyte\" : [\"ZNF385D\",\"HPSE2\",\"LGR6\"],\n",
    "                   \"Pericyte\": [\"LAMC3\",\"COX4I2\"], \"ASM\" : [\"TAGLN\",\"ACTA2\"], \"VSM\" : [\"RGS5\",\"SLIT3\"], \n",
    "                   \"Mesothelial\":[\"UPK3B\",\"WT1\"], \"Lymphatic\": [\"LYVE1\",\"PROX1\"], \"gCap\": [\"FCN3\",\"IL7R\"],\n",
    "                   \"Aerocyte\": [\"EDNRB\",\"HPGD\"], \"Arterial\": [\"IGFBP3\",\"DKK2\"],\"Venous\": [\"CPE\",\"HDAC9\"],\n",
    "                   \"B\": [\"MS4A1\",\"BCL11A\",\"CD79A\"], \"Plasma\": [\"TNFRSF17\",\"DERL3\"],\"T\":[\"CD3E\"],\n",
    "                   \"Treg\": [\"FOXP3\",\"CTLA4\"], \"CD4+ T\": [\"CD4\"], \"CD8+ T\": [\"CD8A\",\"CD8B\"], \n",
    "                   \"Proliferating\": [\"MKI67\"],\"NK\":[\"NKG7\",\"GNLY\"],\n",
    "                   \"cDC1\": [\"CLEC9A\",\"CLNK\"], \"cDC2\": [\"CLEC10A\",\"CD1C\",\"CD1E\"],\n",
    "                   \"Migratory DC\": [\"LAD1\",\"CCL19\"], \"pDC\": [\"SCT\",\"SMPD3\"],\n",
    "                    \"Monocyte\":[\"FCN1\",\"VCAN\"],\"Classical monocyte\":[\"CD14\"],\"Non-classical monocyte\":[\"FCGR3A\"],\n",
    "                   \"Macrophage\": [\"CD68\",\"MARCO\"], \"Alveolar macrophage\": [\"FABP4\"], \n",
    "                   \"Monocyte-derived macrophage\":[\"TREM2\"],\"Interstitial macrophage\": [\"F13A1\",\"FOLR2\"],\n",
    "                   \"Mast\": [\"MS4A2\"], \"Neutrophil\": [\"FCGR3B\"],\n",
    "                   \"Basophil\": [\"ENPP3\",\"IL3RA\"]}, swap_axes = True,\n",
    "                  groupby=\"celltype\",dendrogram=False,standard_scale=\"var\", save = \"COPD_celltype_marker.pdf\")"
   ]
  }
 ],
 "metadata": {
  "kernelspec": {
   "display_name": "Python (COPD)",
   "language": "python",
   "name": "copd"
  },
  "language_info": {
   "codemirror_mode": {
    "name": "ipython",
    "version": 3
   },
   "file_extension": ".py",
   "mimetype": "text/x-python",
   "name": "python",
   "nbconvert_exporter": "python",
   "pygments_lexer": "ipython3",
   "version": "3.10.14"
  }
 },
 "nbformat": 4,
 "nbformat_minor": 5
}
