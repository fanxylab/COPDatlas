{
 "cells": [
  {
   "cell_type": "code",
   "execution_count": null,
   "id": "b245809c-4a13-4fce-8f9f-8f01fc4f76bf",
   "metadata": {},
   "outputs": [],
   "source": [
    "import os\n",
    "import numpy as np\n",
    "import pandas as pd\n",
    "import scanpy as sc\n",
    "import loompy as lp\n",
    "from matplotlib import pyplot as plt\n",
    "%matplotlib inline\n",
    "\n",
    "sc.settings.verbosity = 3             # verbosity: errors (0), warnings (1), info (2), hints (3)\n",
    "sc.logging.print_header()\n",
    "sc.settings.set_figure_params(dpi=300, facecolor='white')"
   ]
  },
  {
   "cell_type": "code",
   "execution_count": null,
   "id": "df31d142-c358-49b0-b0a1-4964381b0df8",
   "metadata": {},
   "outputs": [],
   "source": [
    "COPD = sc.read(\"/datf/mazhuo/jupyter_notebook/COPD/processed_data_py/COPD_newdata_0808_celltype.h5ad\")"
   ]
  },
  {
   "cell_type": "code",
   "execution_count": null,
   "id": "45371566-ab0d-4abe-ac8d-9c2b0667c0c8",
   "metadata": {},
   "outputs": [],
   "source": [
    "COPD.obs[\"celltype\"] = COPD.obs[\"celltype\"].str.replace(' ', '_')"
   ]
  },
  {
   "cell_type": "code",
   "execution_count": null,
   "id": "095ca609-6088-43c0-8193-b001835be461",
   "metadata": {},
   "outputs": [],
   "source": [
    "celltype = ['Mature AT1','AT2','TRB Secretory','PreTB Secretory','Basal','Goblet','Ciliated',\n",
    "            'Adventitial fibroblast','Alveolar fibroblast','Myofibroblast','Pericyte','ASM','VSM',\n",
    "            'Mesothelial','Aerocyte','gCap','Arterial','Venous','B','Plasma','CD4+ T','NK','cDC2',\n",
    "            'Classical monocyte','Non-classical monocyte','Alveolar macrophage',\n",
    "            'Monocyte-derived macrophage','Interstitial macrophage','Mast','Neutrophil']"
   ]
  },
  {
   "cell_type": "code",
   "execution_count": null,
   "id": "07119f2f-a860-4449-9723-dfd7cc69ec12",
   "metadata": {
    "scrolled": true
   },
   "outputs": [],
   "source": [
    "DEG_HCHS = pd.read_csv(\"/datf/mazhuo/jupyter_notebook/COPD/tables/COPD_DEG_wilcox_HCHS_filter.csv\", index_col=0)\n",
    "DEG_HCHS[\"celltype\"] = DEG_HCHS[\"celltype\"].str.replace(' ', '_')\n",
    "DEG_HSG12 = pd.read_csv(\"/datf/mazhuo/jupyter_notebook/COPD/tables/COPD_DEG_wilcox_HSG12_filter.csv\", index_col=0)\n",
    "DEG_HSG12[\"celltype\"] = DEG_HSG12[\"celltype\"].str.replace(' ', '_')\n",
    "DEG_G1234 = pd.read_csv(\"/datf/mazhuo/jupyter_notebook/COPD/tables/COPD_DEG_wilcox_G1234_filter.csv\", index_col=0)\n",
    "DEG_G1234[\"celltype\"] = DEG_G1234[\"celltype\"].str.replace(' ', '_')"
   ]
  },
  {
   "cell_type": "code",
   "execution_count": null,
   "id": "20483233-9c5d-4d10-8816-70e8ceaaaffb",
   "metadata": {
    "scrolled": true
   },
   "outputs": [],
   "source": [
    "HCHS = COPD[COPD.obs[\"Group\"].isin([\"HC\",\"HS\"])].copy()\n",
    "HSG12 = COPD[COPD.obs[\"Group\"].isin([\"HS\",\"Mild COPD\"])].copy()\n",
    "G1234 = COPD[COPD.obs[\"Group\"].isin([\"Mild COPD\",\"Severe COPD\"])].copy()"
   ]
  },
  {
   "cell_type": "code",
   "execution_count": null,
   "id": "950abf1e-a080-403d-ae37-33d1a9ed24ba",
   "metadata": {},
   "outputs": [],
   "source": [
    "for cell in [\"Immature_AT1\",\"Mature_AT1\",\"AT2\",\"TRB_Secretory\",\"PreTB_Secretory\",\"Basal\",\"Goblet\",\"Ciliated\",\"PNEC\",\n",
    "                 \"Adventitial_fibroblast\",\"Alveolar_fibroblast\",\"Myofibroblast\",\"Fibromyocyte\",\"Pericyte\",\"ASM\",\n",
    "                 \"VSM\",\"Mesothelial\",\"Lymphatic\",\"Aerocyte\",\"gCap\",\"Arterial\",\"Venous\",\"B\",\"Plasma\",\"Treg\",\"CD4+_T\",\n",
    "                 \"CD8+_T\",\"Proliferating_T\",\"NKT\",\"NK\",\"Basophil\",\"cDC1\",\"cDC2\",\"Migratory_DC\",\"pDC\",\"Classical_monocyte\",\"Non-classical_monocyte\",\n",
    "                 \"Alveolar_macrophage\",\"Monocyte-derived_macrophage\",\"Interstitial_macrophage\",\"Mast\",\"Neutrophil\"]:\n",
    "    \n",
    "    gene = list(set(DEG_HCHS[\"gene\"][DEG_HCHS.celltype == cell].tolist()))\n",
    "    if len(gene) >= 10:\n",
    "        cell_ann = HCHS[HCHS.obs[\"celltype\"] == cell].copy()\n",
    "        cell_ann = cell_ann[:, gene]\n",
    "        row_attrs = {\n",
    "            \"Gene\": np.array(cell_ann.var_names)  \n",
    "            }\n",
    "        col_attrs = {\n",
    "            \"CellID\": np.array(cell_ann.obs_names),  \n",
    "            }\n",
    "        if hasattr(cell_ann.X, \"toarray\"):\n",
    "            data_matrix = cell_ann.X.toarray()  \n",
    "        else:\n",
    "            data_matrix = cell_ann.X\n",
    "        lp.create(\"./SCENIC/\" + cell + \"_DEG_HCHS.loom\", data_matrix.transpose(), row_attrs, col_attrs)\n",
    "    "
   ]
  },
  {
   "cell_type": "code",
   "execution_count": null,
   "id": "b0d5f70a-32ab-41cc-a9eb-622716695219",
   "metadata": {},
   "outputs": [],
   "source": [
    "for cell in [\"Immature_AT1\",\"Mature_AT1\",\"AT2\",\"TRB_Secretory\",\"PreTB_Secretory\",\"Basal\",\"Goblet\",\"Ciliated\",\"PNEC\",\n",
    "                 \"Adventitial_fibroblast\",\"Alveolar_fibroblast\",\"Myofibroblast\",\"Fibromyocyte\",\"Pericyte\",\"ASM\",\n",
    "                 \"VSM\",\"Mesothelial\",\"Lymphatic\",\"Aerocyte\",\"gCap\",\"Arterial\",\"Venous\",\"B\",\"Plasma\",\"Treg\",\"CD4+_T\",\n",
    "                 \"CD8+_T\",\"Proliferating_T\",\"NKT\",\"NK\",\"Basophil\",\"cDC1\",\"cDC2\",\"Migratory_DC\",\"pDC\",\"Classical_monocyte\",\"Non-classical_monocyte\",\n",
    "                 \"Alveolar_macrophage\",\"Monocyte-derived_macrophage\",\"Interstitial_macrophage\",\"Mast\",\"Neutrophil\"]:\n",
    "    \n",
    "    gene = list(set(DEG_HSG12[\"gene\"][DEG_HSG12.celltype == cell].tolist()))\n",
    "    if len(gene) >= 10:\n",
    "        cell_ann = HSG12[HSG12.obs[\"celltype\"] == cell].copy()\n",
    "        cell_ann = cell_ann[:, gene]\n",
    "        row_attrs = {\n",
    "            \"Gene\": np.array(cell_ann.var_names)  \n",
    "            }\n",
    "        col_attrs = {\n",
    "            \"CellID\": np.array(cell_ann.obs_names),  \n",
    "            }\n",
    "        if hasattr(cell_ann.X, \"toarray\"):\n",
    "            data_matrix = cell_ann.X.toarray()  \n",
    "        else:\n",
    "            data_matrix = cell_ann.X\n",
    "        lp.create(\"./SCENIC/\" + cell + \"_DEG_HSG12.loom\", data_matrix.transpose(), row_attrs, col_attrs)\n",
    "    "
   ]
  },
  {
   "cell_type": "code",
   "execution_count": null,
   "id": "28c9b448-5bdf-4af6-8a43-7d099f1c7091",
   "metadata": {},
   "outputs": [],
   "source": [
    "for cell in [\"Immature_AT1\",\"Mature_AT1\",\"AT2\",\"TRB_Secretory\",\"PreTB_Secretory\",\"Basal\",\"Goblet\",\"Ciliated\",\"PNEC\",\n",
    "                 \"Adventitial_fibroblast\",\"Alveolar_fibroblast\",\"Myofibroblast\",\"Fibromyocyte\",\"Pericyte\",\"ASM\",\n",
    "                 \"VSM\",\"Mesothelial\",\"Lymphatic\",\"Aerocyte\",\"gCap\",\"Arterial\",\"Venous\",\"B\",\"Plasma\",\"Treg\",\"CD4+_T\",\n",
    "                 \"CD8+_T\",\"Proliferating_T\",\"NKT\",\"NK\",\"Basophil\",\"cDC1\",\"cDC2\",\"Migratory_DC\",\"pDC\",\"Classical_monocyte\",\"Non-classical_monocyte\",\n",
    "                 \"Alveolar_macrophage\",\"Monocyte-derived_macrophage\",\"Interstitial_macrophage\",\"Mast\",\"Neutrophil\"]:\n",
    "    \n",
    "    gene = list(set(DEG_G1234[\"gene\"][DEG_G1234.celltype == cell].tolist()))\n",
    "    if len(gene) >= 10:\n",
    "        cell_ann = G1234[G1234.obs[\"celltype\"] == cell].copy()\n",
    "        cell_ann = cell_ann[:, gene]\n",
    "        row_attrs = {\n",
    "            \"Gene\": np.array(cell_ann.var_names)  \n",
    "            }\n",
    "        col_attrs = {\n",
    "            \"CellID\": np.array(cell_ann.obs_names),  \n",
    "            }\n",
    "        if hasattr(cell_ann.X, \"toarray\"):\n",
    "            data_matrix = cell_ann.X.toarray()  \n",
    "        else:\n",
    "            data_matrix = cell_ann.X\n",
    "        lp.create(\"./SCENIC/\" + cell + \"_DEG_G1234.loom\", data_matrix.transpose(), row_attrs, col_attrs)\n",
    "    "
   ]
  }
 ],
 "metadata": {
  "kernelspec": {
   "display_name": "Python (COPD)",
   "language": "python",
   "name": "copd"
  },
  "language_info": {
   "codemirror_mode": {
    "name": "ipython",
    "version": 3
   },
   "file_extension": ".py",
   "mimetype": "text/x-python",
   "name": "python",
   "nbconvert_exporter": "python",
   "pygments_lexer": "ipython3",
   "version": "3.10.14"
  }
 },
 "nbformat": 4,
 "nbformat_minor": 5
}
